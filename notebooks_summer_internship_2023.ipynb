{
  "cells": [
    {
      "cell_type": "markdown",
      "metadata": {},
      "source": [
        "# Summer internship \n",
        "\n",
        "This notebook presents a code based on the research papper: \"Euclid preparation: VII. Forecast validation for Euclid cosmological probes\" in which the objective is to calculate de asocciated error of cosmological parameteres meassurements using the Fisher Matriz formalisim for forcasting probes. \n",
        "\n",
        "I suggest reading the pappers found on the folder titled \"Research Pappers/\" and instaling CAMB. For more information, visit https://camb.info/."
      ]
    },
    {
      "cell_type": "code",
      "execution_count": 3,
      "metadata": {},
      "outputs": [],
      "source": [
        "# necessary package import for code \n",
        "\n",
        "import sys\n",
        "import os\n",
        "import numpy as np\n",
        "import scipy.integrate as integrate\n",
        "import camb as camb\n",
        "from matplotlib import pyplot as plt\n"
      ]
    },
    {
      "cell_type": "markdown",
      "metadata": {},
      "source": [
        "# CAMB \n",
        "\n",
        "This section shows the intalation of CAMB and a basic familarization with CAMB packages and their usses."
      ]
    },
    {
      "cell_type": "code",
      "execution_count": 4,
      "metadata": {},
      "outputs": [
        {
          "name": "stdout",
          "output_type": "stream",
          "text": [
            "Using CAMB 1.3.6 installed at c:\\ProgramData\\Anaconda3\\lib\\site-packages\\camb\n"
          ]
        }
      ],
      "source": [
        "# camb instalation\n",
        "\n",
        "camb_path = os.path.realpath(os.path.join(os.getcwd(), '..'))\n",
        "sys.path.insert(0, camb_path)\n",
        "\n",
        "\n",
        "print('Using CAMB %s installed at %s'%(camb.__version__, os.path.dirname(camb.__file__ )))"
      ]
    },
    {
      "attachments": {},
      "cell_type": "markdown",
      "metadata": {},
      "source": [
        "# Cosmological Context\n",
        "\n",
        "It is necessary for the comprehension of this internship to present the cosmological context in which the work will be done. For this purpose, I'll summarize the core theory, beggining with the description of the different **comsmological models and their asocciated parameters** that are important to us in this context.\n",
        "\n",
        "## Background quantities \n",
        "\n",
        "Based on Einstein's field equations of **general relativity**, it is possible to derive the Friedmann equations which govern the expansion of space and describe the time evolution in homogeneus and isotropic models of the universe. The equations are: \n",
        "\n",
        "$H^2(t) = [\\frac{\\dot{a(t)}}{a(t)}^2] = \\frac{8\\pi G}{3}\\rho(t) - \\frac{Kc^2}{a^2(t)} \\\\$\n",
        "$\\frac{\\dot{a(t)}}{a(t)} = -\\frac{4\\pi G}{3}[\\rho(t) + 3\\frac{\\rho(t)}{c^2}$\n",
        "\n",
        "Adding **redshift** as a scale factor; $z=a_0/a-1$ and normazalizing $a_0 =1$ which denotrs the present day valur of the scale factor, the **Hubble expassion rate $H(z)$** can be expressed as follows: \n",
        "$H(z) = H_0E(z)$ where $H_0$ is the Hubble parameter today, and $E(z)$ is the proper distance function.\n",
        "\n",
        "To define **cosmological parameters** and work efficiently with them, we can definde the **density parameter** $\\Omega_i(z) = \\rho_i(z)/\\rho_{crit}(z)$ where $ \\rho_{crit}(z)$ is the critical density, derived from the Hubble expanssion rate and a spattialy flat geometry (K=0), and $i$ denotes a generic component. By also defining an **effective curvature density** parameter $\\Omega_K(z)$, equation 1 takes de form:\n",
        "\n",
        "$\\sum_{i=1}^{N} \\Omega_i(z) + \\Omega_K(z) = 1$ whew the sum is over all N species consider in the model.\n",
        "\n",
        "The Friedmann equations can be combined into an **energy conservation equation**. A solution of this equation requires to specify the properties og each energy component in the form of a equation of state $p=p(\\rho)$ that is specified in terms of state parameters $w = p/\\rho c^2$, which can be redshift dependent. \n",
        "\n"
      ]
    },
    {
      "cell_type": "code",
      "execution_count": 5,
      "metadata": {},
      "outputs": [],
      "source": [
        "# valores de Planck 2016 para testear las funciones\n",
        "\n",
        "params_P18 = dict()\n",
        "# crearemos diccionarios en donde estaran los parametros cosmologicos que\n",
        "# queremos utilizar, es facil poder crear y modificar diccionarios\n",
        "\n",
        "params_P18['Ob'] = 0.05   # Omega_b_0\n",
        "params_P18['Om'] = 0.32  # Omega_m_0\n",
        "params_P18['ns'] = 0.96605       # indice espectral\n",
        "params_P18['ODE'] = 0.68   # Omega_DE_0\n",
        "params_P18['sigma8'] = 0.816    # amplitud de densidades de fluctuación\n",
        "params_P18['H0'] = 67.32      # 100h\n",
        "params_P18['sum_mv'] = 0.06  # valor de masas de neutrino\n",
        "params_P18['w_0'] = -1\n",
        "params_P18['w_a'] = 0\n",
        "params_P18['gamma'] = 0.55\n",
        "params_P18['Ov'] = 0  # en este caso tomamos la densidad de radiación como nula"
      ]
    },
    {
      "attachments": {},
      "cell_type": "markdown",
      "metadata": {},
      "source": [
        "We base our models in the **standard model of cosmology:** $\\Lambda CDM$, we can now define basic background quantities for this model which will define our future work:\n",
        "\n",
        "The **matter energy density** in the form of baryons and cold dark matter particles will be describe by: $w_b = w_c = 0$. The photon radiation density is $w_{\\gamma} =1/3$. For the purpouse of galaxy clustering and weak lensing measurements the radiation density $\\Omega_{\\gamma,0}$ is neglible. and we treat massive neutrinos as part of the total matter contribution: $\\Omega_{m,0} = \\Omega_{c,0} + \\Omega_{b,0} + Omega_{v,0}$. \n",
        "In this context, cosmic acceleration requieres a fluid, with this we mean \"dark energy\" (DE) which has an equation of state $w_{DE} < -1/3$. Our model, assumes that this phenomenom is due to the pressence of the cosmological constant $\\Lambda$ described by the equation of state $w_{\\Lambda} = -1$ which corresponds to a time independent energy density $\\rho_{\\Lambda}$.\n"
      ]
    },
    {
      "cell_type": "code",
      "execution_count": 6,
      "metadata": {},
      "outputs": [],
      "source": [
        "def Omega_Lambda(Omega_m, Omega_b, Omega_v):\n",
        "    \"\"\"La funcion Omega_Lambda nos entregara este parametro en base a los que\n",
        "    tenemos, para esto tambien debemos calcular Omega c, un parametro que\n",
        "    no se utilizara, por lo que no es necesario almacenar\"\"\"\n",
        "    Omega_c = Omega_m - Omega_b\n",
        "    OL = 1 - Omega_c - Omega_b - Omega_v\n",
        "    return OL\n",
        "\n",
        "\n",
        "def Omega_K_0(Omega_DE, Omega_m):\n",
        "    \"\"\"Omega_K_0 nos entrega este parametro que es depende de Omega DE y\n",
        "    Omega m, en el caso de del modelo ΛCDM este valor es cero\"\"\"\n",
        "    OK = 1 - (Omega_DE + Omega_m)\n",
        "    return OK\n",
        "\n",
        "\n",
        "def cosmological_parameters(cosmo_pars=dict()):\n",
        "    \"\"\"cosmological_parameters extrae los parametros necesarios para las\n",
        "    el calculo de funciones E(z) y D(z), concadena estos parametros de manera\n",
        "    que sean facil de utilizar, el default son los parametros de Planck 2018\"\"\"\n",
        "    H0 = cosmo_pars.get('H0', params_P18['H0'])\n",
        "    Om = cosmo_pars.get('Om', params_P18['Om'])\n",
        "    Ob = cosmo_pars.get('Ob', params_P18['Ob'])\n",
        "    Ov = cosmo_pars.get('Ov', params_P18['Ov'])\n",
        "    ODE = cosmo_pars.get('ODE', params_P18['ODE'])\n",
        "    OL = Omega_Lambda(Om, Ob, Ov)\n",
        "    OK = Omega_K_0(ODE, Om)\n",
        "    wa = cosmo_pars.get('wa', params_P18['w_a'])\n",
        "    w0 = cosmo_pars.get('w0', params_P18['w_0'])\n",
        "    return H0, Om, ODE, OL, OK, wa, w0"
      ]
    },
    {
      "attachments": {},
      "cell_type": "markdown",
      "metadata": {},
      "source": [
        "## Proper Distance Function $E(z)$ and Angular Diameter Distance Function $D(z)$\n",
        "\n",
        "**Proper distance** and **Comoving distance** are two closely related distance measures used to define distances between objects.\n",
        "\n",
        "Proper distance roughly corresponds to where a distant object would be at a specific moment of cosmological time, which can change over time due to the expansion of the universe. \n",
        "\n",
        "Comoving distance factors out the expansion of the universe, giving a distance that does not change in time due to the expansion of space, though this may change due to other, local factors, such as the motion of a galaxy within a cluster.\n",
        "\n",
        "The  $\\Lambda CDM$ model has fudamental problems, although it fits observations very well. This problems are known as: **The cosmological constant problem** and **The coincidence problem**. Because of this the model and its parameters cannot be predicted from physicial principles. \n",
        "It is needed a general scenarios for the component responsible for cosmic acceleration. This scenario postulates a **dynamical DE** with a redshift dependent equation of state parameter: \n",
        "$w_{DE}(z) = w_0 + w_a\\frac{z}{1+z}$ with $w_0$ the present value of the equation of state and $w_a$ a meassure of its time variation.\n",
        "\n",
        "In this case,the evolution od DE density obbeys: \n",
        "$\\rho_{DE}(z) = \\rho_{DE,0}(1+z)^{3(1+w_0+w_a)}exp[-3w_a\\frac{z}{1+z}]$\n",
        "\n",
        "Finally it is possible to denife the **proper distance function** $E(z)$ as:\n",
        "\n",
        "$E(z) = \\sqrt{\\Omega_{m,0}(1+z)^3 +\\Omega_{DE,0}(1+z)^{3(1+w_0+w_a)}exp[-3w_a\\frac{z}{1+z}] + \\Omega_{K,0}(1+z)^2}$\n",
        "\n",
        "Where it is possible to recover the setting of the $\\Lambda CDM$ model by setting $w_0 = -1$ and $w_a = 0$, in which case the proper distance function become;\n",
        "\n",
        "$E(z) = \\sqrt{\\Omega_{m,0}(1+z)^3 +\\Omega_{\\Lambda,0}+ \\Omega_{K,0}(1+z)^2}$\n",
        "\n",
        "\n",
        "The comoving distance to an object redshift z can be computed as:\n",
        "\n",
        "$r(z) = \\frac{c}{H_0}\\int_{0}^{z} \\frac{dz}{E(z)}$\n",
        "\n",
        "From comoving distance we can derive the **angular diameter distance** $D_A(z)$ which is the relation between the apparent angular size of an object and its true physical size in Euclidean space. The function is defined as:\n",
        "\n",
        "   \n",
        "$D_A(z) = \n",
        "     \\begin{cases}\n",
        "       (1+z)^{-1}\\frac{c}{H_0}\\frac{1}{\\sqrt{|\\Omega_{K,0}|}}sin[\\sqrt{|\\Omega_{K,0}|}\\frac{H_0}{c}r(z) &\\quad\\text{if } \\Omega_{K,0}\\leq 0\\\\\n",
        "       (1+z)^{-1}r(z) &\\quad\\text{if }\\Omega_{K,0} =0 \\\\\n",
        "       (1+z)^{-1}\\frac{c}{H_0}\\frac{1}{\\sqrt{\\Omega_{K,0}}}sin[\\sqrt{\\Omega_{K,0}}\\frac{H_0}{c}r(z) &\\quad\\text{if } \\Omega_{K,0}\\geq 0\\\\\n",
        "     \\end{cases}    $"
      ]
    },
    {
      "cell_type": "code",
      "execution_count": 7,
      "metadata": {},
      "outputs": [],
      "source": [
        "def E_arb(z, cosmo_pars=dict()):\n",
        "    \"\"\"E_arb es la función E(z) arbitraria para cualquier modelo cosmologico\"\"\"\n",
        "    H0, Om, ODE, OL, Ok, wa, w0 = cosmological_parameters(cosmo_pars)\n",
        "    exp = np.exp(-3*wa*(z/1+z))\n",
        "    ind = 1 + wa + w0\n",
        "    E = np.sqrt(Om*(1+z)**3 + ODE*((1+z)**(3*ind))*exp + Ok*(1+z)**2)\n",
        "    return E\n",
        "\n",
        "\n",
        "def E(z, cosmo_pars=dict()):\n",
        "    \"\"\"E es la función E(z) para el caso w0 = -1 y wa = 0\"\"\"\n",
        "    H0, Om, ODE, OL, Ok, wa, w0 = cosmological_parameters(cosmo_pars)\n",
        "    E = np.sqrt(Om*(1+z)**3 + OL + Ok*(1+z)**2)\n",
        "    return E"
      ]
    },
    {
      "cell_type": "code",
      "execution_count": 8,
      "metadata": {},
      "outputs": [],
      "source": [
        "# comoving distance to an object redshift z\n",
        "\n",
        "def f_integral(z, cosmo_pars=dict()):\n",
        "    \"\"\"f_integral define la funcion dentro de la integral\n",
        "    ocupada para el calculo de r(z)\"\"\"\n",
        "    return 1/E_arb(z, cosmo_pars)\n",
        "\n",
        "\n",
        "def r(z, cosmo_pars=dict()):\n",
        "    \"\"\"r calcula comoving distnace to an objecto redshift\"\"\"\n",
        "    c = 300000  # km/s\n",
        "    cte = c/params_P18['H0']  # h^-1 Mpc\n",
        "    int = integrate.quad(f_integral, 0, z, args=cosmo_pars)\n",
        "    r = cte*int[0]\n",
        "    return r\n",
        "\n",
        "\n",
        "# transverse comoving distance\n",
        "\n",
        "\n",
        "def D(z, cosmo_pars=dict()):\n",
        "    \"\"\"La funcion D calcula transverse comoving distance para los distintos\n",
        "    casos de el parametro Omgea_K_0\"\"\"\n",
        "    c = 300000  # km/s\n",
        "    H0, Om, ODE, OL, Ok, wa, w0 = cosmological_parameters(cosmo_pars)\n",
        "    cte_1 = c/H0\n",
        "    cte_2 = H0/c\n",
        "    a = 1/(1+z)\n",
        "    if Ok < 0:\n",
        "        return a*(cte_1*(1/(np.abs(Ok)**(1/2))))*np.sin(\n",
        "            np.abs(Ok)**(1/2)*cte_2*r(z, cosmo_pars))\n",
        "    if Ok == 0:\n",
        "        return a*r(z, cosmo_pars)\n",
        "    if Ok > 0:\n",
        "        return a*(cte_1*(1/(Ok**(1/2))))*np.sinh(\n",
        "            (Ok**(1/2))*cte_2*r(z, cosmo_pars))\n",
        "    else:\n",
        "        return \"Error\""
      ]
    },
    {
      "attachments": {},
      "cell_type": "markdown",
      "metadata": {},
      "source": [
        "# Plots\n",
        "In the next section all the **plots** of the code will be displayed with a small description.\n"
      ]
    },
    {
      "cell_type": "code",
      "execution_count": 9,
      "metadata": {},
      "outputs": [
        {
          "data": {
            "image/png": "[encoded data removed]",
            "text/plain": [
              "<Figure size 720x576 with 1 Axes>"
            ]
          },
          "metadata": {
            "needs_background": "light"
          },
          "output_type": "display_data"
        },
        {
          "data": {
            "image/png": "[encoded data removed]",
            "text/plain": [
              "<Figure size 720x576 with 1 Axes>"
            ]
          },
          "metadata": {
            "needs_background": "light"
          },
          "output_type": "display_data"
        },
        {
          "data": {
            "image/png": "[encoded data removed]",
            "text/plain": [
              "<Figure size 720x576 with 1 Axes>"
            ]
          },
          "metadata": {
            "needs_background": "light"
          },
          "output_type": "display_data"
        }
      ],
      "source": [
        "# all plots in the same row, share the y-axis.\n",
        "\n",
        "z_arr = np.linspace(0, 2.5, 100)\n",
        "fig, ax = plt.subplots(1, 1, sharey='row', sharex='col', figsize=(10, 8))  \n",
        "\n",
        "# Proper distance dependent on redshift plot\n",
        "ax.plot(z_arr, E_arb(z_arr), label='$E(z)$', color='mediumpurple')\n",
        "ax.set_xlabel('Redshift $z$')\n",
        "ax.set_ylabel('$E(z)$')\n",
        "ax.set_title('Proper distance $E(z) as a function of redshift $z$')\n",
        "plt.show()\n",
        "\n",
        "# Comoving distance to an object redshift z plot\n",
        "\n",
        "fig, ax = plt.subplots(1, 1, sharey='row', sharex='col', figsize=(10, 8))\n",
        "for z in z_arr:\n",
        "    ax.scatter(z, r(z), s=1.0, label='$r(z)$', color='mediumpurple')\n",
        "ax.set_xlabel('Redshift $z$')\n",
        "ax.set_ylabel('$Comoving distance r(z)$')\n",
        "ax.set_title('Comoving distance $r(z)$ as a function of redshift $z$')\n",
        "plt.show()\n",
        "\n",
        "# Angular diameter distance to an object redshift z plot\n",
        "\n",
        "fig, ax = plt.subplots(1, 1, sharey='row', sharex='col', figsize=(10, 8))\n",
        "for z in z_arr:\n",
        "    ax.scatter(z, D(z), s=1.0, label='$D_A(z)$', color='mediumpurple')\n",
        "ax.set_xlabel('Redshift $z$')\n",
        "ax.set_ylabel('$D_A(z)$')\n",
        "ax.set_title('Angular diameter distance $D_a(z)$ as a function of redshift $z$')\n",
        "plt.show()\n"
      ]
    }
  ],
  "metadata": {
    "kernelspec": {
      "display_name": "base",
      "language": "python",
      "name": "python3"
    },
    "language_info": {
      "codemirror_mode": {
        "name": "ipython",
        "version": 3
      },
      "file_extension": ".py",
      "mimetype": "text/x-python",
      "name": "python",
      "nbconvert_exporter": "python",
      "pygments_lexer": "ipython3",
      "version": "3.8.8"
    },
    "vscode": {
      "interpreter": {
        "hash": "ad2bdc8ecc057115af97d19610ffacc2b4e99fae6737bb82f5d7fb13d2f2c186"
      }
    }
  },
  "nbformat": 4,
  "nbformat_minor": 4
}
