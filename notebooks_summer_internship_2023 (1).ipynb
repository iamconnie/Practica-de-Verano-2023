{
  "metadata": {
    "language_info": {
      "codemirror_mode": {
        "name": "python",
        "version": 3
      },
      "file_extension": ".py",
      "mimetype": "text/x-python",
      "name": "python",
      "nbconvert_exporter": "python",
      "pygments_lexer": "ipython3",
      "version": "3.8"
    },
    "kernelspec": {
      "name": "python",
      "display_name": "Python (Pyodide)",
      "language": "python"
    }
  },
  "nbformat_minor": 4,
  "nbformat": 4,
  "cells": [
    {
      "cell_type": "markdown",
      "source": "# Summer internship \n\nThis notebook presents a code based on the research papper: \"Euclid preparation: VII. Forecast validation for Euclid cosmological probes\" in which the objective is to calculate de asocciated error of cosmological parameteres meassurements using the Fisher Matriz formalisim for forcasting probes. \n\nI suggest reading the pappers found on the folder titled \"Research Pappers/\" and instaling CAMB. For more information, visit https://camb.info/.",
      "metadata": {}
    },
    {
      "cell_type": "code",
      "source": "# necessary package import for code \n\nimport sys\nimport os\nimport numpy as np\nimport scipy.integrate as integrate\nimport camb as camb",
      "metadata": {},
      "execution_count": null,
      "outputs": []
    },
    {
      "cell_type": "markdown",
      "source": "# CAMB \n\nThis section shows the intalation of CAMB and a basic familarization with CAMB packages and their usses.",
      "metadata": {}
    },
    {
      "cell_type": "code",
      "source": "# camb instalation\n\ncamb_path = os.path.realpath(os.path.join(os.getcwd(), '..'))\nsys.path.insert(0, camb_path)\n\n\nprint('Using CAMB %s installed at %s'%(camb.__version__, os.path.dirname(camb.__file__ )))",
      "metadata": {},
      "execution_count": null,
      "outputs": []
    },
    {
      "cell_type": "markdown",
      "source": "# Cosmological Context\n\nIt is necessary for the comprehension of this internship to present the cosmological context in which the work will be done. For this purpose, I'll summarize the core theory, beggining with the description of the different **comsmological models and their asocciated parameters** that are important to us in this context.\n\n## Background quantities \n\nBased on Einstein's field equations of **general relativity**, it is possible to derive the Friedmann equations which govern the expansion of space and describe the time evolution in homogeneus and isotropic models of the universe. The equations are: \n\n$H^2(t) = [\\frac{\\dot{a(t)}}{a(t)}^2] = \\frac{8\\pi G}{3}\\rho(t) - \\frac{Kc^2}{a^2(t)} \\\\$\n$\\frac{\\dot{a(t)}}{a(t)} = -\\frac{4\\pi G}{3}[\\rho(t) + 3\\frac{\\rho(t)}{c^2}$\n\nAdding **redshift** as a scale factor; $z=a_0/a-1$ and normazalizing $a_0 =1$ which denotrs the present day valur of the scale factor, the **Hubble expassion rate $H(z)$** can be expressed as follows: \n$H(z) = H_0E(z)$ where $H_0$ is the Hubble parameter today, and $E(z)$ is the proper distance function.\n\nTo define **cosmological parameters** and work efficiently with them, we can definde the **density parameter** $\\Omega_i(z) = \\rho_i(z)/\\rho_{crit}(z)$ where $ \\rho_{crit}(z)$ is the critical density, derived from the Hubble expanssion rate and a spattialy flat geometry (K=0), and $i$ denotes a generic component. By also defining an **effective curvature density** parameter $\\Omega_K(z)$, equation 1 takes de form:\n\n$\\sum_{i=1}^{N} \\Omega_i(z) + \\Omega_K(z) = 1$ whew the sum is over all N species consider in the model.\n\nThe Friedmann equations can be combined into an **energy conservation equation**. A solution of this equation requires to specify the properties og each energy component in the form of a equation of state $p=p(\\rho)$ that is specified in terms of state parameters $w = p/\\rho c^2$, which can be redshift dependent. \n\nWe base our models in the **standard model of cosmology:** $\\Lambda CDM$, we can now define basic background quantities for this model which will define our future work:\n\nThe **matter energy density** in the form of baryons and cold dark matter particles will be describe by: $w_b = w_c = 0$. The photon radiation density is $w_{\\gamma} =1/3$. For the purpouse of galaxy clustering and weak lensing measurements the radiation density $\\Omega_{\\gamma,0}$ is neglible. and we treat massive neutrinos as part of the total matter contribution: $\\Omega_{m,0} = \\Omega_{c,0} + \\Omega_{b,0} + Omega_{v,0}$. \nIn this context, cosmic acceleration requieres a fluid, with this we mean \"dark energy\" (DE) which has an equation of state $w_{DE} < -1/3$. Our model, assumes that this phenomenom is due to the pressence of the cosmological constant $\\Lambda$ described by the equation of state $w_{\\Lambda} = -1$ which corresponds to a time independent energy density $\\rho_{\\Lambda}$.\n\n## Proper Distance Function $E(z)$ and Angular Diameter Distance Function $D(z)$\n\n**Proper distance** and **Comoving distance** are two closely related distance measures used to define distances between objects.\n\nProper distance roughly corresponds to where a distant object would be at a specific moment of cosmological time, which can change over time due to the expansion of the universe. \n\nComoving distance factors out the expansion of the universe, giving a distance that does not change in time due to the expansion of space, though this may change due to other, local factors, such as the motion of a galaxy within a cluster.\n\nThe  $\\Lambda CDM$ model has fudamental problems, although it fits observations very well. This problems are known as: **The cosmological constant problem** and **The coincidence problem**. Because of this the model and its parameters cannot be predicted from physicial principles. \nIt is needed a general scenarios for the component responsible for cosmic acceleration. This scenario postulates a **dynamical DE** with a redshift dependent equation of state parameter: \n$w_{DE}(z) = w_0 + w_a\\frac{z}{1+z}$ with $w_0$ the present value of the equation of state and $w_a$ a meassure of its time variation.\n\nIn this case,the evolution od DE density obbeys: \n$\\rho_{DE}(z) = \\rho_{DE,0}(1+z)^{3(1+w_0+w_a)}exp[-3w_a\\frac{z}{1+z}]$\n\nFinally it is possible to denife the **proper distance function** $E(z)$ as:\n\n$E(z) = \\sqrt{\\Omega_{m,0}(1+z)^3 +\\Omega_{DE,0}(1+z)^{3(1+w_0+w_a)}exp[-3w_a\\frac{z}{1+z}] + \\Omega_{K,0}(1+z)^2}$\n\nWhere it is possible to recover the setting of the $\\Lambda CDM$ model by setting $w_0 = -1$ and $w_a = 0$, in which case the proper distance function become;\n\n$E(z) = \\sqrt{\\Omega_{m,0}(1+z)^3 +\\Omega_{\\Lambda,0}+ \\Omega_{K,0}(1+z)^2}$\n\n\nThe comoving distance to an object redshift z can be computed as:\n\n$r(z) = \\frac{c}{H_0}\\int_{0}^{z} \\frac{dz}{E(z)}$\n\nFrom comoving distance we can derive the **angular diameter distance** $D_A(z)$ which is the relation between the apparent angular size of an object and its true physical size in Euclidean space. The function is defined as:\n\n   \n$D_A(z) = \n     \\begin{cases}\n       (1+z)^{-1}\\frac{c}{H_0}\\frac{1}{\\sqrt{|\\Omega_{K,0}|}}sin[\\sqrt{|\\Omega_{K,0}|}\\frac{H_0}{c}r(z) &\\quad\\text{if } \\Omega_{K,0}\\leq 0\\\\\n       (1+z)^{-1}r(z) &\\quad\\text{if }\\Omega_{K,0} =0 \\\\\n       (1+z)^{-1}\\frac{c}{H_0}\\frac{1}{\\sqrt{\\Omega_{K,0}}}sin[\\sqrt{\\Omega_{K,0}}\\frac{H_0}{c}r(z) &\\quad\\text{if } \\Omega_{K,0}\\geq 0\\\\\n     \\end{cases}    $\n\n",
      "metadata": {}
    },
    {
      "cell_type": "code",
      "source": "# valores de Planck 2016 para testear las funciones\n\nparams_P18 = dict()\n# crearemos diccionarios en donde estaran los parametros cosmologicos que\n# queremos utilizar, es facil poder crear y modificar diccionarios\n\nparams_P18['Ob'] = 0.05   # Omega_b_0\nparams_P18['Om'] = 0.32  # Omega_m_0\nparams_P18['ns'] = 0.96605       # indice espectral\nparams_P18['ODE'] = 0.68   # Omega_DE_0\nparams_P18['sigma8'] = 0.816    # amplitud de densidades de fluctuación\nparams_P18['H0'] = 67.32      # 100h\nparams_P18['sum_mv'] = 0.06  # valor de masas de neutrino\nparams_P18['w_0'] = -1\nparams_P18['w_a'] = 0\nparams_P18['gamma'] = 0.55\nparams_P18['Ov'] = 0  # en este caso tomamos la densidad de radiación como nula",
      "metadata": {},
      "execution_count": null,
      "outputs": []
    },
    {
      "cell_type": "code",
      "source": "def Omega_Lambda(Omega_m, Omega_b, Omega_v):\n    \"\"\"La funcion Omega_Lambda nos entregara este parametro en base a los que\n    tenemos, para esto tambien debemos calcular Omega c, un parametro que\n    no se utilizara, por lo que no es necesario almacenar\"\"\"\n    Omega_c = Omega_m - Omega_b\n    OL = 1 - Omega_c - Omega_b - Omega_v\n    return OL\n\n\ndef Omega_K_0(Omega_DE, Omega_m):\n    \"\"\"Omega_K_0 nos entrega este parametro que es depende de Omega DE y\n    Omega m, en el caso de del modelo ΛCDM este valor es cero\"\"\"\n    OK = 1 - (Omega_DE + Omega_m)\n    return OK\n\n\ndef cosmological_parameters(cosmo_pars=dict()):\n    \"\"\"cosmological_parameters extrae los parametros necesarios para las\n    el calculo de funciones E(z) y D(z), concadena estos parametros de manera\n    que sean facil de utilizar, el default son los parametros de Planck 2018\"\"\"\n    H0 = cosmo_pars.get('H0', params_P18['H0'])\n    Om = cosmo_pars.get('Om', params_P18['Om'])\n    Ob = cosmo_pars.get('Ob', params_P18['Ob'])\n    Ov = cosmo_pars.get('Ov', params_P18['Ov'])\n    ODE = cosmo_pars.get('ODE', params_P18['ODE'])\n    OL = Omega_Lambda(Om, Ob, Ov)\n    OK = Omega_K_0(ODE, Om)\n    wa = cosmo_pars.get('wa', params_P18['w_a'])\n    w0 = cosmo_pars.get('w0', params_P18['w_0'])\n    return H0, Om, ODE, OL, OK, wa, w0",
      "metadata": {},
      "execution_count": null,
      "outputs": []
    },
    {
      "cell_type": "code",
      "source": "def E_arb(z, cosmo_pars=dict()):\n    \"\"\"E_arb es la función E(z) arbitraria para cualquier modelo cosmologico\"\"\"\n    H0, Om, ODE, OL, Ok, wa, w0 = cosmological_parameters(cosmo_pars)\n    exp = np.exp(-3*wa*(z/1+z))\n    ind = 1 + wa + w0\n    E = np.sqrt(Om*(1+z)**3 + ODE*((1+z)**(3*ind))*exp + Ok*(1+z)**2)\n    return E\n\n\ndef E(z, cosmo_pars=dict()):\n    \"\"\"E es la función E(z) para el caso w0 = -1 y wa = 0\"\"\"\n    H0, Om, ODE, OL, Ok, wa, w0 = cosmological_parameters(cosmo_pars)\n    E = np.sqrt(Om*(1+z)**3 + OL + Ok*(1+z)**2)\n    return E",
      "metadata": {},
      "execution_count": null,
      "outputs": []
    },
    {
      "cell_type": "code",
      "source": "# comoving distance to an object redshift z\n\ndef f_integral(z, cosmo_pars=dict()):\n    \"\"\"f_integral define la funcion dentro de la integral\n    ocupada para el calculo de r(z)\"\"\"\n    return 1/E_arb(z, cosmo_pars)\n\n\ndef r(z, cosmo_pars=dict()):\n    \"\"\"r calcula comoving distnace to an objecto redshift\"\"\"\n    c = 300000  # km/s\n    cte = c/params_P18['H0']  # h^-1 Mpc\n    int = integrate.quad(f_integral, 0, z, args=cosmo_pars)\n    r = cte*int[0]\n    return r\n\n\n# transverse comoving distance\n\n\ndef D(z, cosmo_pars=dict()):\n    \"\"\"La funcion D calcula transverse comoving distance para los distintos\n    casos de el parametro Omgea_K_0\"\"\"\n    c = 300000  # km/s\n    H0, Om, ODE, OL, Ok, wa, w0 = cosmological_parameters(cosmo_pars)\n    cte_1 = c/H0\n    cte_2 = H0/c\n    a = 1/(1+z)\n    if Ok < 0:\n        return a*(cte_1*(1/(np.abs(Ok)**(1/2))))*np.sin(\n            np.abs(Ok)**(1/2)*cte_2*r(z, cosmo_pars))\n    if Ok == 0:\n        return a*r(z, cosmo_pars)\n    if Ok > 0:\n        return a*(cte_1*(1/(Ok**(1/2))))*np.sinh(\n            (Ok**(1/2))*cte_2*r(z, cosmo_pars))\n    else:\n        return \"Error\"",
      "metadata": {},
      "execution_count": null,
      "outputs": []
    }
  ]
}